{
 "cells": [
  {
   "cell_type": "markdown",
   "metadata": {},
   "source": [
    "## Introduction: the problem\n",
    "One of the main concerns of our modern cities is road traffic. Daily jobs, as well as shopping, spare time and recreation activities, sports and social activities, cause a large number of people to move every day on our road system, sometimes for a considerable amount of their time.  \n",
    "Road traffic is not only a problem for cities. Sometimes, for example in small centers with poor public transportation service, the use of a motor vehicle becomes a necessity for everyday work and activities. Public road transport, non-motorized vehicles, such as bicycles, and pedestrians are also part of the movements on our roads.\n",
    "\n",
    "Road accidents have thus become a huge problem for our activities.\n",
    "\n",
    "They are a problem not only in terms of the risk we run when driving, or walking, or cycling on the roads, but also in terms of time we lose when stuck in queue after a road accident. For the society, road accidents are a cost in terms of human lives, and in terms of money and resources spent in preventing accidents and taking care of injured people.\n",
    "\n",
    "Road accidents thus represent a great loss from a lot of different points of view for our society.\n",
    "\n",
    "The ability to estimate the likelihood of a road accident and its possible severity given a certain set of conditions has therefore become a hot topic in the last decades. Predictive models that take into account for example road, time, place and weather conditions to predict the severity of a possible accident can be of advantage for different groups.  \n",
    "Among the main stakeholders we could include governments, police forces, road authorities, who can use those predictive models to identify the most critical conditions and determine the most effective countermeasures to reduce the number or the severity of road accidents, for example patrolling particular areas during critical times.  \n",
    "Even normal drivers, cyclists or pedestrians could benefit from these studies, for example they could be warned about dangerous situations, or in case of an accident these models could predict the possible severity and possible time needed for the traffic to resume its normal course. Drivers could also be warned by driving assistance systems using these models, when the road and weather conditions require a more focused attention because of a higher probability of a severe accident. Along these lines, self-driving systems could implement further security protocols to be adopted at the appearance of such critical circumstances.  \n",
    "Insurance companies could also benefit from such predictive models, identifying the level of criticality for the typical road routine of people (e.g. when going to work).\n",
    "\n",
    "The aim of this brief study is to develop a predictive model of accident severity, considering as input variables a set of risk factors such as, for example, weather and road conditions, time of the day, or specific road intersection type."
   ]
  }
 ],
 "metadata": {
  "kernelspec": {
   "display_name": "Python 3",
   "language": "python",
   "name": "python3"
  },
  "language_info": {
   "codemirror_mode": {
    "name": "ipython",
    "version": 3
   },
   "file_extension": ".py",
   "mimetype": "text/x-python",
   "name": "python",
   "nbconvert_exporter": "python",
   "pygments_lexer": "ipython3",
   "version": "3.7.6"
  }
 },
 "nbformat": 4,
 "nbformat_minor": 4
}
